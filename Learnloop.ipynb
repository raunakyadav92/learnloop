{
  "nbformat": 4,
  "nbformat_minor": 0,
  "metadata": {
    "colab": {
      "provenance": [],
      "authorship_tag": "ABX9TyN86xlCyIntZry8MLS9dw+X",
      "include_colab_link": true
    },
    "kernelspec": {
      "name": "python3",
      "display_name": "Python 3"
    },
    "language_info": {
      "name": "python"
    }
  },
  "cells": [
    {
      "cell_type": "markdown",
      "metadata": {
        "id": "view-in-github",
        "colab_type": "text"
      },
      "source": [
        "<a href=\"https://colab.research.google.com/github/raunakyadav92/learnloop/blob/main/Learnloop.ipynb\" target=\"_parent\"><img src=\"https://colab.research.google.com/assets/colab-badge.svg\" alt=\"Open In Colab\"/></a>"
      ]
    },
    {
      "cell_type": "code",
      "execution_count": null,
      "metadata": {
        "id": "IzaNt5Wq6q4C"
      },
      "outputs": [],
      "source": [
        "def ask_question(question, options, correct_option):\n",
        "    print(\"\\n\" + question)\n",
        "    for i, option in enumerate(options, 1):\n",
        "        print(f\"{i}. {option}\")\n",
        "    choice = input(\"Enter your choice (1-4): \")\n",
        "    return choice == str(correct_option)\n",
        "\n",
        "def main():\n",
        "    score = 0\n",
        "    questions = [\n",
        "        {\n",
        "            \"question\": \"What is the keyword to define a function in Python?\",\n",
        "            \"options\": [\"def\", \"function\", \"define\", \"fun\"],\n",
        "            \"answer\": 1\n",
        "        },\n",
        "        {\n",
        "            \"question\": \"Which data type is immutable?\",\n",
        "            \"options\": [\"List\", \"Dictionary\", \"Set\", \"Tuple\"],\n",
        "            \"answer\": 4\n",
        "        },\n",
        "        {\n",
        "            \"question\": \"What does 'len()' function do?\",\n",
        "            \"options\": [\"Adds numbers\", \"Returns length\", \"Deletes item\", \"None of the above\"],\n",
        "            \"answer\": 2\n",
        "        }\n",
        "    ]\n",
        "\n",
        "    print(\"=== Welcome to LearnLoop Quiz ===\")\n",
        "    for q in questions:\n",
        "        if ask_question(q[\"question\"], q[\"options\"], q[\"answer\"]):\n",
        "            print(\"✅ Correct!\")\n",
        "            score += 1\n",
        "        else:\n",
        "            print(\"❌ Wrong Answer!\")\n",
        "\n",
        "    print(f\"\\nYour final score: {score}/{len(questions)}\")\n",
        "    print(\"Thanks for playing LearnLoop!\")\n",
        "\n",
        "if __name__ == \"__main__\":\n",
        "    main()\n"
      ]
    }
  ]
}